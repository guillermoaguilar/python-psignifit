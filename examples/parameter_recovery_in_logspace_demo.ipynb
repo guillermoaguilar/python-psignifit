{
 "cells": [
  {
   "cell_type": "markdown",
   "metadata": {
    "nteract": {
     "transient": {
      "deleting": false
     }
    }
   },
   "source": [
    "# Parameter Recovery in Log-Space Demo\n",
    "\n",
    "In this demo, we show a parameter recovery using `psignifit`, in the case where we want to fit a sigmoid in log space. \n",
    "\n",
    "This demo is very similar to the \"Parameter Recovery Demo\", and you should have a look at that one first, but it also shows how to fit the sigmoid in log-space, and how to recover width, threshold, and confidence intercals in the original simulus space.\n",
    "\n",
    "We will cover the following steps:\n",
    "\n",
    "  1. Simulating data with known parameters.\n",
    "  \n",
    "  2. Fitting the model to the simulated data in logspace.\n",
    "\n",
    "  3. Converting the fitted parameters back to stimulus space.\n",
    "  \n",
    "  4. Comparing the recovered parameters to the original parameters.\n"
   ]
  },
  {
   "cell_type": "code",
   "execution_count": 1,
   "metadata": {
    "nteract": {
     "transient": {
      "deleting": false
     }
    }
   },
   "outputs": [],
   "source": [
    "%matplotlib inline\n",
    "\n",
    "import numpy as np\n",
    "from matplotlib import pyplot as plt\n",
    "\n",
    "import psignifit\n",
    "from psignifit import psigniplot\n",
    "from psignifit.sigmoids import sigmoid_by_name"
   ]
  },
  {
   "cell_type": "markdown",
   "metadata": {
    "nteract": {
     "transient": {
      "deleting": false
     }
    }
   },
   "source": [
    "First, we set parameters using which the data will be simulated"
   ]
  },
  {
   "cell_type": "code",
   "execution_count": 2,
   "metadata": {
    "nteract": {
     "transient": {
      "deleting": false
     }
    }
   },
   "outputs": [],
   "source": [
    "stim_range = [1.0, 1000.0]\n",
    "threshold = 134\n",
    "\n",
    "lambda_ = 0.0232\n",
    "gamma = 0.1\n",
    "nsteps = 20\n",
    "num_trials = 50000\n",
    "# We are going to fit a log-Weibull sigmoid\n",
    "sigmoid_name = 'weibull'\n",
    "sigmoid = sigmoid_by_name('weibull')\n",
    "# We choose levels spaced logarithmically in the stimuli space, because that is often what happens\n",
    "# in experiments where the fit is done in logarithmic space\n",
    "stimulus_level = np.logspace(np.log10(stim_range[0]), np.log10(stim_range[1]), nsteps, base=10)\n",
    "# However, one could just as well space the stimuli linearly\n",
    "#stimulus_level = np.linspace(stim_range[0], stim_range[1], nsteps)"
   ]
  },
  {
   "cell_type": "markdown",
   "metadata": {
    "nteract": {
     "transient": {
      "deleting": false
     }
    }
   },
   "source": [
    "Using the sigmoid object, we can simulate percent correct values for each stimulus level, without introducing \n",
    "additional variability.\n",
    "\n",
    "We generate the data on the data and parameters transformed in log-space, since the fit it's going to be made there."
   ]
  },
  {
   "cell_type": "code",
   "execution_count": 3,
   "metadata": {
    "nteract": {
     "transient": {
      "deleting": false
     }
    }
   },
   "outputs": [],
   "source": [
    "logspace_stimulus_level = np.log(stimulus_level)\n",
    "log_threshold = np.log(threshold)\n",
    "log_width = 2.3  # Width in log-space\n",
    "\n",
    "perccorr = sigmoid(logspace_stimulus_level, log_threshold, log_width, gamma, lambda_)"
   ]
  },
  {
   "cell_type": "markdown",
   "metadata": {},
   "source": [
    "This is what the generated data and threshold look like in the stimulus space"
   ]
  },
  {
   "cell_type": "code",
   "execution_count": 4,
   "metadata": {},
   "outputs": [
    {
     "data": {
      "text/plain": [
       "<matplotlib.lines.Line2D at 0x16df4d0f0>"
      ]
     },
     "execution_count": 4,
     "metadata": {},
     "output_type": "execute_result"
    },
    {
     "data": {
      "image/png": "[encoded data removed]",
      "text/plain": [
       "<Figure size 640x480 with 1 Axes>"
      ]
     },
     "metadata": {},
     "output_type": "display_data"
    }
   ],
   "source": [
    "fig, ax = plt.subplots()\n",
    "ax.semilogx(stimulus_level, perccorr, marker='o')\n",
    "ax.set_xlabel(\"Stimulus Level\")\n",
    "ax.set_ylabel(\"Percent Correct\")\n",
    "plt.axvline(threshold, color='r')\n",
    "pc = (1 - gamma - lambda_) / 2 + gamma\n",
    "plt.axhline(pc, color='r')"
   ]
  },
  {
   "cell_type": "markdown",
   "metadata": {
    "nteract": {
     "transient": {
      "deleting": false
     }
    }
   },
   "source": [
    "We construct our data array. In this first case, we have so many trials that the average hit rate is identical to the value on the psychometric function.\n",
    "\n",
    "Notice that we are going to give to `psignifit` the data in the log-space, so that the fit happens in that space."
   ]
  },
  {
   "cell_type": "code",
   "execution_count": 5,
   "metadata": {
    "nteract": {
     "transient": {
      "deleting": false
     }
    }
   },
   "outputs": [],
   "source": [
    "ntrials = np.ones(nsteps) * num_trials\n",
    "hits = (perccorr * ntrials).astype(int)\n",
    "\n",
    "data = np.dstack([logspace_stimulus_level, hits, ntrials]).squeeze()"
   ]
  },
  {
   "cell_type": "markdown",
   "metadata": {
    "nteract": {
     "transient": {
      "deleting": false
     }
    }
   },
   "source": [
    "We set the options for our fit. In this case we assume a yes/no experiment and we want to estimate all parameters (i.e. fix none)."
   ]
  },
  {
   "cell_type": "code",
   "execution_count": 6,
   "metadata": {
    "nteract": {
     "transient": {
      "deleting": false
     }
    }
   },
   "outputs": [],
   "source": [
    "options = {}\n",
    "options['sigmoid'] = sigmoid \n",
    "options['experiment_type'] = 'yes/no'\n",
    "options['fixed_parameters'] = {}"
   ]
  },
  {
   "cell_type": "markdown",
   "metadata": {
    "nteract": {
     "transient": {
      "deleting": false
     }
    }
   },
   "source": [
    "Now we run the fitting procedure. We don't need to do anything special about the log-space: since the data lives in that space, the fit is going to happen in that space."
   ]
  },
  {
   "cell_type": "code",
   "execution_count": 7,
   "metadata": {
    "nteract": {
     "transient": {
      "deleting": false
     }
    }
   },
   "outputs": [],
   "source": [
    "res = psignifit.psignifit(data, **options)"
   ]
  },
  {
   "cell_type": "markdown",
   "metadata": {
    "nteract": {
     "transient": {
      "deleting": false
     }
    }
   },
   "source": [
    "Lastly, we can ensure that the values in our `res.parameter_estimate` dictionary are equal to the values that we used to simulate them. Notice that, since the fit is done in log-space, the parameters that correspond to the stimulus space (threshold and width) are themselves to be interpreted in log-space."
   ]
  },
  {
   "cell_type": "code",
   "execution_count": 8,
   "metadata": {},
   "outputs": [
    {
     "data": {
      "text/plain": [
       "{'eta': np.float64(1.1102997468934713e-05),\n",
       " 'gamma': np.float64(0.09998994235987187),\n",
       " 'lambda': np.float64(0.023218057586713498),\n",
       " 'threshold': np.float64(4.897830348510321),\n",
       " 'width': np.float64(2.299983082494156)}"
      ]
     },
     "execution_count": 8,
     "metadata": {},
     "output_type": "execute_result"
    }
   ],
   "source": [
    "res.parameter_estimate"
   ]
  },
  {
   "cell_type": "code",
   "execution_count": 9,
   "metadata": {},
   "outputs": [],
   "source": [
    "assert np.isclose(res.parameter_estimate['threshold'], log_threshold, atol=1e-4)\n",
    "assert np.isclose(res.parameter_estimate['width'], log_width, atol=1e-4)"
   ]
  },
  {
   "cell_type": "code",
   "execution_count": 10,
   "metadata": {
    "nteract": {
     "transient": {
      "deleting": false
     }
    }
   },
   "outputs": [],
   "source": [
    "assert np.isclose(res.parameter_estimate['lambda'], lambda_, atol=1e-4)\n",
    "assert np.isclose(res.parameter_estimate['gamma'], gamma, atol=1e-4)\n",
    "assert np.isclose(res.parameter_estimate['eta'], 0, atol=1e-4)"
   ]
  },
  {
   "cell_type": "code",
   "execution_count": 11,
   "metadata": {},
   "outputs": [
    {
     "data": {
      "text/plain": [
       "Text(0.5, 0, 'log(Stimulus Level)')"
      ]
     },
     "execution_count": 11,
     "metadata": {},
     "output_type": "execute_result"
    },
    {
     "data": {
      "image/png": "[encoded data removed]",
      "text/plain": [
       "<Figure size 640x480 with 1 Axes>"
      ]
     },
     "metadata": {},
     "output_type": "display_data"
    }
   ],
   "source": [
    "fig, ax = plt.subplots()\n",
    "psigniplot.plot_psychometric_function(res, ax=ax)\n",
    "ax.scatter(logspace_stimulus_level, perccorr)\n",
    "ax.set_xlabel('log(Stimulus Level)')"
   ]
  },
  {
   "cell_type": "markdown",
   "metadata": {},
   "source": [
    "If we want to interpret the parameters in the original stimulus space, we need a minimum of math:\n",
    "- The threshold is just a stimulus level in log-space, and can be transformed back to stimulus space by taking its exponential\n",
    "- The width is a _distance_ between stimulus levels in log-space, and cannot be tranformed back that simply. Instead, we use the definition of width: we measure the log-levels of `alpha` and `1-alpha`, transform them back to stimulus space, and then compute the width."
   ]
  },
  {
   "cell_type": "code",
   "execution_count": 12,
   "metadata": {},
   "outputs": [
    {
     "name": "stdout",
     "output_type": "stream",
     "text": [
      "Actual threshold in stimulus space: 134\n",
      "Estimated threshold in stimlulus space: 133.99873351294596\n"
     ]
    }
   ],
   "source": [
    "lin_estimated_threshold = np.exp(res.parameter_estimate['threshold'])\n",
    "print('Actual threshold in stimulus space:', threshold)\n",
    "print('Estimated threshold in stimlulus space:', lin_estimated_threshold)"
   ]
  },
  {
   "cell_type": "code",
   "execution_count": 13,
   "metadata": {},
   "outputs": [
    {
     "name": "stdout",
     "output_type": "stream",
     "text": [
      "Estimated width in stimlulus space: 275.85061547039305\n"
     ]
    }
   ],
   "source": [
    "lin_estimated_width = (\n",
    "    np.exp(res.threshold(0.95, return_ci=False, unscaled=True)) \n",
    "    - np.exp(res.threshold(0.05, return_ci=False, unscaled=True))\n",
    ")\n",
    "print('Estimated width in stimlulus space:', lin_estimated_width)"
   ]
  },
  {
   "cell_type": "code",
   "execution_count": null,
   "metadata": {},
   "outputs": [],
   "source": []
  },
  {
   "cell_type": "code",
   "execution_count": null,
   "metadata": {},
   "outputs": [],
   "source": []
  },
  {
   "cell_type": "markdown",
   "metadata": {
    "nteract": {
     "transient": {
      "deleting": false
     }
    }
   },
   "source": [
    "# And now with some more realistic data..."
   ]
  },
  {
   "cell_type": "code",
   "execution_count": 14,
   "metadata": {},
   "outputs": [],
   "source": [
    "num_trials = 50  # A smaller number of trials makes the data more noisy\n",
    "eta = 0.1  # This parameter decides how overdispersed the data is\n",
    "perccorr = psignifit.tools.psychometric_with_eta(logspace_stimulus_level, log_threshold, log_width, gamma, lambda_, sigmoid_name, eta)\n",
    "\n",
    "ntrials = np.ones(nsteps, dtype=int) * num_trials\n",
    "hits = np.random.binomial(ntrials, perccorr)\n",
    "data = np.dstack([logspace_stimulus_level, hits, ntrials]).squeeze()"
   ]
  },
  {
   "cell_type": "code",
   "execution_count": 15,
   "metadata": {
    "collapsed": false,
    "jupyter": {
     "outputs_hidden": false,
     "source_hidden": false
    },
    "nteract": {
     "transient": {
      "deleting": false
     }
    }
   },
   "outputs": [
    {
     "data": {
      "text/plain": [
       "Text(0, 0.5, 'Percent Correct')"
      ]
     },
     "execution_count": 15,
     "metadata": {},
     "output_type": "execute_result"
    },
    {
     "data": {
      "image/png": "[encoded data removed]",
      "text/plain": [
       "<Figure size 640x480 with 1 Axes>"
      ]
     },
     "metadata": {},
     "output_type": "display_data"
    }
   ],
   "source": [
    "experimental_perccorr = hits/ntrials\n",
    "fig, ax = plt.subplots()\n",
    "ax.semilogx(stimulus_level, experimental_perccorr, marker='o', ls='')\n",
    "ax.set_xlabel(\"Stimulus Level\")\n",
    "ax.set_ylabel(\"Percent Correct\")"
   ]
  },
  {
   "cell_type": "markdown",
   "metadata": {
    "nteract": {
     "transient": {
      "deleting": false
     }
    }
   },
   "source": [
    "We run the fit again"
   ]
  },
  {
   "cell_type": "code",
   "execution_count": 16,
   "metadata": {
    "nteract": {
     "transient": {
      "deleting": false
     }
    }
   },
   "outputs": [],
   "source": [
    "options = {}\n",
    "options['sigmoid'] = sigmoid \n",
    "options['experiment_type'] = 'yes/no'\n",
    "options['fixed_parameters'] = {}\n"
   ]
  },
  {
   "cell_type": "code",
   "execution_count": 17,
   "metadata": {
    "nteract": {
     "transient": {
      "deleting": false
     }
    }
   },
   "outputs": [],
   "source": [
    "res = psignifit.psignifit(data, **options)"
   ]
  },
  {
   "cell_type": "markdown",
   "metadata": {
    "nteract": {
     "transient": {
      "deleting": false
     }
    }
   },
   "source": [
    "pPlot to ensure we found a good fit"
   ]
  },
  {
   "cell_type": "code",
   "execution_count": 18,
   "metadata": {
    "nteract": {
     "transient": {
      "deleting": false
     }
    }
   },
   "outputs": [
    {
     "data": {
      "text/plain": [
       "{'eta': np.float64(0.0764837854190139),\n",
       " 'gamma': np.float64(0.10401534353460173),\n",
       " 'lambda': np.float64(0.0296671218606755),\n",
       " 'threshold': np.float64(4.832388962873693),\n",
       " 'width': np.float64(2.428817162617904)}"
      ]
     },
     "execution_count": 18,
     "metadata": {},
     "output_type": "execute_result"
    }
   ],
   "source": [
    "res.parameter_estimate"
   ]
  },
  {
   "cell_type": "code",
   "execution_count": 19,
   "metadata": {
    "collapsed": false,
    "jupyter": {
     "outputs_hidden": false,
     "source_hidden": false
    },
    "nteract": {
     "transient": {
      "deleting": false
     }
    }
   },
   "outputs": [
    {
     "data": {
      "text/plain": [
       "<Axes: xlabel='Stimulus Level', ylabel='Proportion Correct'>"
      ]
     },
     "execution_count": 19,
     "metadata": {},
     "output_type": "execute_result"
    },
    {
     "data": {
      "image/png": "[encoded data removed]",
      "text/plain": [
       "<Figure size 640x480 with 1 Axes>"
      ]
     },
     "metadata": {},
     "output_type": "display_data"
    }
   ],
   "source": [
    "fig, ax = plt.subplots()\n",
    "psigniplot.plot_psychometric_function(res, ax=ax)"
   ]
  },
  {
   "cell_type": "code",
   "execution_count": 20,
   "metadata": {},
   "outputs": [
    {
     "data": {
      "text/plain": [
       "(np.float64(125.51044257431022), np.float64(274.2831135010386))"
      ]
     },
     "execution_count": 20,
     "metadata": {},
     "output_type": "execute_result"
    }
   ],
   "source": [
    "lin_threshold = np.exp(res.parameter_estimate['threshold'])\n",
    "lin_width = np.exp(res.threshold(0.95, return_ci=False, unscaled=True)) - np.exp(res.threshold(0.05, return_ci=False, unscaled=True))\n",
    "lin_threshold, lin_width"
   ]
  },
  {
   "cell_type": "code",
   "execution_count": null,
   "metadata": {},
   "outputs": [],
   "source": []
  }
 ],
 "metadata": {
  "kernel_info": {
   "name": "datana"
  },
  "kernelspec": {
   "display_name": "Python 3 (ipykernel)",
   "language": "python",
   "name": "python3"
  },
  "language_info": {
   "codemirror_mode": {
    "name": "ipython",
    "version": 3
   },
   "file_extension": ".py",
   "mimetype": "text/x-python",
   "name": "python",
   "nbconvert_exporter": "python",
   "pygments_lexer": "ipython3",
   "version": "3.10.9"
  },
  "nteract": {
   "version": "0.28.0"
  }
 },
 "nbformat": 4,
 "nbformat_minor": 4
}
